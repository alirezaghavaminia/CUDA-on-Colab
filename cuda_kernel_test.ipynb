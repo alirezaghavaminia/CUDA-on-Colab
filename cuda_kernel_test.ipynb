{
  "nbformat": 4,
  "nbformat_minor": 0,
  "metadata": {
    "colab": {
      "name": "cuda_kernel_test.ipynb",
      "provenance": [],
      "collapsed_sections": [],
      "authorship_tag": "ABX9TyOGqoO4FfhOgIn7CgTL9Yjy",
      "include_colab_link": true
    },
    "kernelspec": {
      "name": "python3",
      "display_name": "Python 3"
    },
    "language_info": {
      "name": "python"
    },
    "accelerator": "GPU",
    "gpuClass": "standard"
  },
  "cells": [
    {
      "cell_type": "markdown",
      "metadata": {
        "id": "view-in-github",
        "colab_type": "text"
      },
      "source": [
        "<a href=\"https://colab.research.google.com/github/alirezaghavaminia/CUDA-on-Colab/blob/main/cuda_kernel_test.ipynb\" target=\"_parent\"><img src=\"https://colab.research.google.com/assets/colab-badge.svg\" alt=\"Open In Colab\"/></a>"
      ]
    },
    {
      "cell_type": "code",
      "execution_count": 1,
      "metadata": {
        "colab": {
          "base_uri": "https://localhost:8080/"
        },
        "id": "P_8aiJRTZWZr",
        "outputId": "217628c1-258e-41c2-b014-8509afd1feb8"
      },
      "outputs": [
        {
          "output_type": "stream",
          "name": "stdout",
          "text": [
            "Writing cuda_kernel_test.cu\n"
          ]
        }
      ],
      "source": [
        "%%writefile cuda_kernel_test.cu\n",
        "#include <stdio.h>\n",
        "#include <unistd.h>\n",
        "\n",
        "__global__ void cuda_hello(){\n",
        "    printf(\"Hello World from GPU!\\n\");\n",
        "}\n",
        "\n",
        "int main() {\n",
        "    cuda_hello<<<1,1>>>();\n",
        "    cudaDeviceSynchronize();\n",
        "\n",
        "    // sleep(10);\n",
        "    return 0;\n",
        "}"
      ]
    },
    {
      "cell_type": "code",
      "source": [
        "%%shell\n",
        "nvcc cuda_kernel_test.cu -o cuda_kernel_test"
      ],
      "metadata": {
        "colab": {
          "base_uri": "https://localhost:8080/"
        },
        "id": "D6PmCKLdZeGN",
        "outputId": "f2c0dba6-794f-43d8-fca6-66edd37951da"
      },
      "execution_count": 2,
      "outputs": [
        {
          "output_type": "execute_result",
          "data": {
            "text/plain": [
              ""
            ]
          },
          "metadata": {},
          "execution_count": 2
        }
      ]
    },
    {
      "cell_type": "code",
      "source": [
        "%%shell\n",
        "./cuda_kernel_test"
      ],
      "metadata": {
        "colab": {
          "base_uri": "https://localhost:8080/"
        },
        "id": "H5TgIuUfZo_L",
        "outputId": "09867d57-e8c8-4e75-e4a6-2b5f03e0fd7f"
      },
      "execution_count": 3,
      "outputs": [
        {
          "output_type": "stream",
          "name": "stdout",
          "text": [
            "Hello World from GPU!\n"
          ]
        },
        {
          "output_type": "execute_result",
          "data": {
            "text/plain": [
              ""
            ]
          },
          "metadata": {},
          "execution_count": 3
        }
      ]
    },
    {
      "cell_type": "code",
      "source": [
        "%%writefile cuda_kernel_test2.cu\n",
        "#include <stdio.h>\n",
        "\n",
        "__global__ void helloCUDA(float f)\n",
        "{\n",
        "    printf(\"Hello thread %d, f=%f\\n\", threadIdx.x, f);\n",
        "}\n",
        "\n",
        "int main()\n",
        "{\n",
        "    helloCUDA<<<1, 5>>>(1.2345f);\n",
        "    cudaDeviceSynchronize();\n",
        "    return 0;\n",
        "}"
      ],
      "metadata": {
        "colab": {
          "base_uri": "https://localhost:8080/"
        },
        "id": "tXZYWWL0ZvNL",
        "outputId": "f3c11edc-65ff-4bc1-a867-2103a94a5e52"
      },
      "execution_count": 4,
      "outputs": [
        {
          "output_type": "stream",
          "name": "stdout",
          "text": [
            "Writing cuda_kernel_test2.cu\n"
          ]
        }
      ]
    },
    {
      "cell_type": "code",
      "source": [
        "%%shell\n",
        "nvcc cuda_kernel_test2.cu -o cuda_kernel_test2 && ./cuda_kernel_test2"
      ],
      "metadata": {
        "colab": {
          "base_uri": "https://localhost:8080/"
        },
        "id": "XSC27-tOar0n",
        "outputId": "fc1033b7-27b9-4bfa-8712-7c9823f814b8"
      },
      "execution_count": 5,
      "outputs": [
        {
          "output_type": "stream",
          "name": "stdout",
          "text": [
            "Hello thread 0, f=1.234500\n",
            "Hello thread 1, f=1.234500\n",
            "Hello thread 2, f=1.234500\n",
            "Hello thread 3, f=1.234500\n",
            "Hello thread 4, f=1.234500\n"
          ]
        },
        {
          "output_type": "execute_result",
          "data": {
            "text/plain": [
              ""
            ]
          },
          "metadata": {},
          "execution_count": 5
        }
      ]
    },
    {
      "cell_type": "code",
      "source": [
        ""
      ],
      "metadata": {
        "id": "FTtktxAOayl2"
      },
      "execution_count": null,
      "outputs": []
    }
  ]
}